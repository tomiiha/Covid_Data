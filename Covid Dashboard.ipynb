{
 "cells": [
  {
   "cell_type": "code",
   "execution_count": 141,
   "metadata": {},
   "outputs": [],
   "source": [
    "from requests import get\n",
    "import pandas as pd\n",
    "import datetime"
   ]
  },
  {
   "cell_type": "code",
   "execution_count": 142,
   "metadata": {
    "scrolled": true
   },
   "outputs": [],
   "source": [
    "# Standard get request\n",
    "def get_data(url):\n",
    "    try:\n",
    "        response = get(endpoint, timeout=10)\n",
    "    except:\n",
    "        return print(\"Request failed\")\n",
    "    return response.json()\n",
    "\n",
    "# What variables to be captured\n",
    "variables = '{\"date\":\"date\",\"newCases\":\"newCasesByPublishDate\",\"hospitalcases\":\"hospitalCases\"}'"
   ]
  },
  {
   "cell_type": "code",
   "execution_count": 143,
   "metadata": {},
   "outputs": [],
   "source": [
    "# Endpoint contains data to be requested\n",
    "endpoint = (\n",
    "        'https://api.coronavirus.data.gov.uk/v1/data?'\n",
    "        'filters=areaType=nation;areaName=england&'\n",
    "        'structure=' + variables)\n",
    "\n",
    "# Pull data\n",
    "data = get_data(endpoint)\n",
    "\n",
    "# Convert to dataframe\n",
    "df = pd.DataFrame.from_dict(data['data'], orient='columns')"
   ]
  },
  {
   "cell_type": "code",
   "execution_count": 144,
   "metadata": {},
   "outputs": [],
   "source": [
    "file_urls = []\n",
    "\n",
    "# Vaccination data file pull\n",
    "def vax_capture(vax_source):\n",
    "\n",
    "    # Packages for capture, only needed for the file process.\n",
    "    import requests as reqs\n",
    "    from bs4 import BeautifulSoup as bsoup\n",
    "    \n",
    "    # Capture files\n",
    "    vax_source = 'https://www.england.nhs.uk/statistics/statistical-work-areas/covid-19-vaccinations/'\n",
    "    file_page = bsoup(reqs.get(vax_source).content, 'html.parser')\n",
    "    file_capture = file_page.find_all('p')\n",
    "    for x in file_capture:\n",
    "        add = x.find_next('a').attrs['href']\n",
    "        if add.endswith('.xlsx'):\n",
    "            file_urls.append(add)\n",
    "    return vax_parse(file_urls[0])"
   ]
  },
  {
   "cell_type": "code",
   "execution_count": null,
   "metadata": {},
   "outputs": [],
   "source": [
    "source_get = reqs.get(file_url).content\n",
    "data_set = pd.read_excel(source_get)"
   ]
  },
  {
   "cell_type": "code",
   "execution_count": 147,
   "metadata": {},
   "outputs": [],
   "source": [
    "# Parse latest file for data\n",
    "def vax_parse(file_url):\n",
    "    return 1"
   ]
  },
  {
   "cell_type": "code",
   "execution_count": 148,
   "metadata": {},
   "outputs": [
    {
     "data": {
      "text/plain": [
       "1"
      ]
     },
     "execution_count": 148,
     "metadata": {},
     "output_type": "execute_result"
    }
   ],
   "source": [
    "# Run\n",
    "vax_capture(vax_source)"
   ]
  },
  {
   "cell_type": "code",
   "execution_count": null,
   "metadata": {},
   "outputs": [],
   "source": []
  }
 ],
 "metadata": {
  "kernelspec": {
   "display_name": "Python 3",
   "language": "python",
   "name": "python3"
  },
  "language_info": {
   "codemirror_mode": {
    "name": "ipython",
    "version": 3
   },
   "file_extension": ".py",
   "mimetype": "text/x-python",
   "name": "python",
   "nbconvert_exporter": "python",
   "pygments_lexer": "ipython3",
   "version": "3.8.5"
  }
 },
 "nbformat": 4,
 "nbformat_minor": 4
}
